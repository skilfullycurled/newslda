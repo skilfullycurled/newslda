{
 "cells": [
  {
   "cell_type": "code",
   "execution_count": 1,
   "metadata": {
    "collapsed": false
   },
   "outputs": [
    {
     "name": "stdout",
     "output_type": "stream",
     "text": [
      "imported\n"
     ]
    }
   ],
   "source": [
    "import os\n",
    "from bs4 import BeautifulSoup, NavigableString, Tag \n",
    "\n",
    "from nltk.util import ngrams\n",
    "from nltk import word_tokenize\n",
    "\n",
    "import json\n",
    "import numpy as np\n",
    "import pandas as pd\n",
    "\n",
    "%matplotlib inline\n",
    "import matplotlib as plt\n",
    "import seaborn as sns\n",
    "\n",
    "import collections\n",
    "import csv\n",
    "# from sets import Set # DEPRECATED\n",
    "\n",
    "from datetime import datetime\n",
    "from pytz import timezone\n",
    "\n",
    "print \"imported\""
   ]
  },
  {
   "cell_type": "code",
   "execution_count": 2,
   "metadata": {
    "collapsed": false
   },
   "outputs": [
    {
     "name": "stdout",
     "output_type": "stream",
     "text": [
      "imported\n"
     ]
    }
   ],
   "source": [
    "# IMPORTS SPECIFIC TO TOPIC MODELING\n",
    "\n",
    "import langid\n",
    "import nltk\n",
    "import re\n",
    "import time\n",
    "from collections import defaultdict\n",
    "from configparser import ConfigParser\n",
    "from gensim import corpora, models, similarities\n",
    "from nltk.tokenize import RegexpTokenizer\n",
    "from string import digits\n",
    "from nltk.stem import WordNetLemmatizer\n",
    "from nltk.tag import pos_tag\n",
    "from nltk.corpus import wordnet\n",
    "# from nltk.tag.api import TaggerI\n",
    "# from nltk import word_tokenize, pos_tag\n",
    "print \"imported\""
   ]
  },
  {
   "cell_type": "markdown",
   "metadata": {},
   "source": [
    "### DESCRIPTIVES,  EXPLORATION, AND SELECTION"
   ]
  },
  {
   "cell_type": "markdown",
   "metadata": {},
   "source": [
    "#### LOAD CSV"
   ]
  },
  {
   "cell_type": "code",
   "execution_count": 3,
   "metadata": {
    "collapsed": false,
    "scrolled": true
   },
   "outputs": [
    {
     "data": {
      "text/html": [
       "<div>\n",
       "<table border=\"1\" class=\"dataframe\">\n",
       "  <thead>\n",
       "    <tr style=\"text-align: right;\">\n",
       "      <th></th>\n",
       "      <th>date</th>\n",
       "      <th>outlet</th>\n",
       "      <th>text</th>\n",
       "    </tr>\n",
       "  </thead>\n",
       "  <tbody>\n",
       "    <tr>\n",
       "      <th>0</th>\n",
       "      <td>2015-09-16</td>\n",
       "      <td>CNN_Election</td>\n",
       "      <td>WHO'S STEADY HAND DO WE WANT ON TILLER IN THE ...</td>\n",
       "    </tr>\n",
       "    <tr>\n",
       "      <th>1</th>\n",
       "      <td>2015-09-16</td>\n",
       "      <td>CNN_Election</td>\n",
       "      <td>CANDIDATES AND ONE EXCELLENT MODERATOR JAKE TA...</td>\n",
       "    </tr>\n",
       "    <tr>\n",
       "      <th>2</th>\n",
       "      <td>2015-09-16</td>\n",
       "      <td>CNN_Election</td>\n",
       "      <td>YOU CAN'T GOVERN IF YOU CAN'T WIN. YOU CAN'T W...</td>\n",
       "    </tr>\n",
       "    <tr>\n",
       "      <th>3</th>\n",
       "      <td>2015-09-16</td>\n",
       "      <td>CNN_Election</td>\n",
       "      <td>THEM. ARE THEY ALL GOING TO BE LOCK STEP ON TH...</td>\n",
       "    </tr>\n",
       "    <tr>\n",
       "      <th>4</th>\n",
       "      <td>2015-09-16</td>\n",
       "      <td>CNN_Election</td>\n",
       "      <td>ADS. &gt;&gt; ARE THESE CONSERVATIVE GROUPS COMING O...</td>\n",
       "    </tr>\n",
       "  </tbody>\n",
       "</table>\n",
       "</div>"
      ],
      "text/plain": [
       "        date        outlet                                               text\n",
       "0 2015-09-16  CNN_Election  WHO'S STEADY HAND DO WE WANT ON TILLER IN THE ...\n",
       "1 2015-09-16  CNN_Election  CANDIDATES AND ONE EXCELLENT MODERATOR JAKE TA...\n",
       "2 2015-09-16  CNN_Election  YOU CAN'T GOVERN IF YOU CAN'T WIN. YOU CAN'T W...\n",
       "3 2015-09-16  CNN_Election  THEM. ARE THEY ALL GOING TO BE LOCK STEP ON TH...\n",
       "4 2015-09-16  CNN_Election  ADS. >> ARE THESE CONSERVATIVE GROUPS COMING O..."
      ]
     },
     "execution_count": 3,
     "metadata": {},
     "output_type": "execute_result"
    }
   ],
   "source": [
    "headers = ['outlet', 'date', 'text', 'citation']\n",
    "news = pd.read_csv('data/newwords.csv', names=headers, infer_datetime_format=True, error_bad_lines=False, warn_bad_lines=True)\n",
    "news.drop(['citation'], axis=1, inplace=True)\n",
    "news = news[['date', 'outlet', 'text']]\n",
    "news['date'] = pd.to_datetime(news['date']) # CONVERT STR DATE TO DATETIME\n",
    "# news.set_index('date', inplace=True) # AND/OR, SET DATE AS INDEX\n",
    "news.head()"
   ]
  },
  {
   "cell_type": "code",
   "execution_count": 6,
   "metadata": {
    "collapsed": false
   },
   "outputs": [
    {
     "name": "stdout",
     "output_type": "stream",
     "text": [
      "WHO'S STEADY HAND DO WE WANT ON TILLER IN THE STORMY SEAS THAT WE FIND OURSELVES IN TODAY? GETTING SMALL GETTING -- MAKING IT LOOK LIKE IT'S JUST A HIGH SCHOOL ELECTION AND NAME CALLING AND ALL OF THOSE THINGS THAT CAN ACTUALLY TAKE YOU OUT OF THE CAMPAIGN TONIGHT. STAY BIG. I THINK THAT'S ONE OF THE THINGS WE WANT TO \n"
     ]
    }
   ],
   "source": [
    "print news['text'][0]"
   ]
  },
  {
   "cell_type": "code",
   "execution_count": 252,
   "metadata": {
    "collapsed": false
   },
   "outputs": [
    {
     "data": {
      "text/plain": [
       "count                    8655\n",
       "unique                    414\n",
       "top       2016-10-20 00:00:00\n",
       "freq                      119\n",
       "first     2015-09-16 00:00:00\n",
       "last      2016-11-09 00:00:00\n",
       "Name: date, dtype: object"
      ]
     },
     "execution_count": 252,
     "metadata": {},
     "output_type": "execute_result"
    }
   ],
   "source": [
    "news['date'].describe()"
   ]
  },
  {
   "cell_type": "markdown",
   "metadata": {},
   "source": [
    "#### VIEW SENTENCE VOLUME BY WEEK AND OUTLET"
   ]
  },
  {
   "cell_type": "code",
   "execution_count": 9,
   "metadata": {
    "collapsed": false,
    "scrolled": true
   },
   "outputs": [
    {
     "data": {
      "text/plain": [
       "<matplotlib.axes._subplots.AxesSubplot at 0x11aaefbd0>"
      ]
     },
     "execution_count": 9,
     "metadata": {},
     "output_type": "execute_result"
    },
    {
     "data": {
      "image/png": "[encoded data removed]",
      "text/plain": [
       "<matplotlib.figure.Figure at 0x111a70610>"
      ]
     },
     "metadata": {},
     "output_type": "display_data"
    }
   ],
   "source": [
    "by_outlet_wk_ct = news.groupby(['outlet', news[\"date\"].dt.week])['date'].count().unstack().fillna(0).T\n",
    "by_outlet_wk_ct.plot(kind=\"bar\", figsize=(16,5))"
   ]
  },
  {
   "cell_type": "markdown",
   "metadata": {},
   "source": [
    "#### CHOOSE MONTHS"
   ]
  },
  {
   "cell_type": "code",
   "execution_count": null,
   "metadata": {
    "collapsed": true
   },
   "outputs": [],
   "source": [
    "# MONTH 1:\n",
    "# 2016-7-20 - 2016-7-26\n",
    "# 2016-7-27 - 2016-8-2\n",
    "# 2016-8-3 - 2016-8-9\n",
    "# 2016-8-10 - 2016-8-16\n",
    "\n",
    "# MONTH 2: \n",
    "# 2016-8-17 - 2016-8-23\n",
    "# 2016-8-24 - 2016-8-30\n",
    "# 2016-8-31 - 2016-9-6\n",
    "# 2016-9-7 - 2016-9-13\n",
    "\n",
    "# MONTH 3:\n",
    "# 2016-9-14 - 2016-9-20\n",
    "# 2016-9-21 - 2016-9-27\n",
    "# 2016-9-28 - 2016-10-4\n",
    "# 2016-10-5 - 2016-10-11\n",
    "\n",
    "# MONTH 4:\n",
    "# 2016-10-12 - 2016-10-18\n",
    "# 2016-10-19 - 2016-10-25\n",
    "# 2016-10-26 - 2016-11-1\n",
    "# 2016-11-2 - 2016-11-8"
   ]
  },
  {
   "cell_type": "markdown",
   "metadata": {},
   "source": [
    "#### CREATE VIEWS"
   ]
  },
  {
   "cell_type": "code",
   "execution_count": 10,
   "metadata": {
    "collapsed": false
   },
   "outputs": [],
   "source": [
    "# ENTIRE CORPUS SPLIT BY OUTLET\n",
    "cnn = news[news['outlet'] == 'CNN_Election']\n",
    "bnn = news[news['outlet'] == 'BNN_Election']\n",
    "wsj = news[news['outlet'] == 'WSJ_Election']\n",
    "\n",
    "# CORPUS SPLIT BY MONTH WITH COMBINED OUTLET\n",
    "month_a = news[(news['date'] >= '2016-7-20') & (news['date']<= '2016-8-16')]\n",
    "month_b = news[(news['date'] >= '2016-8-17') & (news['date']<= '2016-9-13')]\n",
    "month_c = news[(news['date'] >= '2016-9-14') & (news['date']<= '2016-10-11')]\n",
    "month_d = news[(news['date'] >= '2016-10-12') & (news['date']<= '2016-11-8')]"
   ]
  },
  {
   "cell_type": "markdown",
   "metadata": {},
   "source": [
    "#### SAVE VIEWS TO FILES"
   ]
  },
  {
   "cell_type": "code",
   "execution_count": 396,
   "metadata": {
    "collapsed": false
   },
   "outputs": [],
   "source": [
    "dfs = [cnn, bnn, wsj, month_a, month_b, month_c, month_d]\n",
    "names = ['cnn', 'bnn', 'wsj', 'month_a', 'month_b', 'month_c', 'month_d']\n",
    "\n",
    "for df, name in zip(dfs, names):\n",
    "    df.to_csv('data/csv/all/' + name + '.csv', ) # ALL COLUMNS IN VIEW\n",
    "    df.to_csv('data/strings/all/' + name + '.txt', columns=['text'], header=False, index=False) # TEXT ONLY"
   ]
  },
  {
   "cell_type": "markdown",
   "metadata": {},
   "source": [
    "### PREPROCESSING TEXT, CREATING DICTIONARIES AND CORPORA"
   ]
  },
  {
   "cell_type": "code",
   "execution_count": 155,
   "metadata": {
    "collapsed": false
   },
   "outputs": [
    {
     "name": "stdout",
     "output_type": "stream",
     "text": [
      "cnn 7160 documents\n",
      "0 full:  STOPLIST: 0 TOKENS: 449576 UNIQUE: 17511\n",
      "1 uni:  STOPLIST: 26971 TOKENS: 422605 UNIQUE: 17474\n",
      "2 bi:  STOPLIST: 81539 TOKENS: 341066 UNIQUE: 17161\n",
      "3 nltk:  STOPLIST: 153 TOKENS: 211443 UNIQUE: 17045\n",
      "4 misc:  STOPLIST: 16 TOKENS: 203866 UNIQUE: 17030\n",
      "5 num:  STOPLIST: 2931 TOKENS: 202599 UNIQUE: 16718\n",
      "6 lemmas:  STOPLIST: 0 TOKENS: 202599 UNIQUE: 13614\n",
      "7 freq:  STOPLIST: 0 TOKENS: 196079 UNIQUE: 7094\n",
      "\n",
      "bnn 193 documents\n",
      "0 full:  STOPLIST: 0 TOKENS: 5989 UNIQUE: 1911\n",
      "1 uni:  STOPLIST: 409 TOKENS: 5580 UNIQUE: 1897\n",
      "2 bi:  STOPLIST: 915 TOKENS: 4665 UNIQUE: 1837\n",
      "3 nltk:  STOPLIST: 153 TOKENS: 3315 UNIQUE: 1747\n",
      "4 misc:  STOPLIST: 16 TOKENS: 3252 UNIQUE: 1733\n",
      "5 num:  STOPLIST: 62 TOKENS: 3229 UNIQUE: 1719\n",
      "6 lemmas:  STOPLIST: 0 TOKENS: 3229 UNIQUE: 1518\n",
      "7 freq:  STOPLIST: 0 TOKENS: 2272 UNIQUE: 561\n",
      "\n",
      "wsj 1302 documents\n",
      "0 full:  STOPLIST: 0 TOKENS: 46752 UNIQUE: 6727\n",
      "1 uni:  STOPLIST: 3359 TOKENS: 43393 UNIQUE: 6698\n",
      "2 bi:  STOPLIST: 7555 TOKENS: 35838 UNIQUE: 6559\n",
      "3 nltk:  STOPLIST: 153 TOKENS: 25567 UNIQUE: 6452\n",
      "4 misc:  STOPLIST: 16 TOKENS: 25029 UNIQUE: 6437\n",
      "5 num:  STOPLIST: 2179 TOKENS: 24449 UNIQUE: 6301\n",
      "6 lemmas:  STOPLIST: 0 TOKENS: 24449 UNIQUE: 5182\n",
      "7 freq:  STOPLIST: 0 TOKENS: 21791 UNIQUE: 2524\n",
      "\n"
     ]
    }
   ],
   "source": [
    "# include_dict = collections.OrderedDict()\n",
    "# include_dict = {'full': True, 'unichars': False, 'bichars': False, 'misc': False, \n",
    "#                 'nltk': False, 'numbers': False, 'lemmas': False, 'low_fq': False}\n",
    "# levels = ['full', 'uni', 'bi', 'misc', 'nltk', 'num', 'lemmas', 'freq'] # NOW USES KEYS IN STOP_DICT\n",
    "\n",
    "\n",
    "tokenizer = RegexpTokenizer(r'\\w+')\n",
    "\n",
    "dfs = [cnn, bnn, wsj] #, month_a, month_b, month_c, month_d]\n",
    "names = ['cnn', 'bnn', 'wsj'] #, 'month_a', 'month_b', 'month_c', 'month_d']\n",
    "\n",
    "for df, name in zip(dfs, names):\n",
    "    \n",
    "    documents = [text for text in df['text']]\n",
    "    documents = [tokenizer.tokenize(doc.lower()) for doc in documents ]\n",
    "    documents = [ [token.decode('ascii', 'ignore') for token in doc] for doc in documents  ] # FIX UNICODE\n",
    "    print name, len(documents), 'documents'\n",
    "\n",
    "    stop_dict = create_stop_dict(documents)\n",
    "    for level, (stoptype, stoplist) in enumerate(stop_dict.items()):\n",
    "        \n",
    "        if stoptype == 'lemmas':\n",
    "            \n",
    "            # print 'LEMMATIZING DOCUMENTS'\n",
    "            documents = lemmatize_documents(documents)\n",
    "        \n",
    "        elif stoptype == 'freq': # REMOVE LOW FREQUENCY WORDS (TODO: REFACTOR TO FIT INTO STOP_DICT FX)\n",
    "            \n",
    "#             print 'REMOVING LOW FREQUENCY'\n",
    "            documents = remove_low_frequency(documents)\n",
    "            \n",
    "        else:\n",
    "#             print 'REMOVING stoptype.upper()'\n",
    "            documents = remove_stopwords(documents, stoplist)\n",
    "        \n",
    "        # SAVE FREQUENCY COUNTS\n",
    "        token_fqs = save_token_frequency(documents, 'data/freq/', name, level, stoptype)\n",
    "        \n",
    "        # SAVE TEXT AS STRINGS\n",
    "#         save_tokenized_text(documents, 'data/tokens/', name, level)\n",
    "        save_tokenized_text(documents, 'data/tokens/', name, level, stoptype)\n",
    "        \n",
    "        # SAVE DICT AND CORPORA\n",
    "        save_nlp_files(documents, name, level, stoptype)\n",
    "        \n",
    "        unique_tokens = token_fqs.keys()\n",
    "        all_tokens = list(token_fqs.elements())\n",
    "                    \n",
    "        print level, stoptype + ': ', 'STOPLIST:', len(stoplist), 'TOKENS:', len(all_tokens), 'UNIQUE:', len(unique_tokens)\n",
    "\n",
    "    print ''"
   ]
  },
  {
   "cell_type": "markdown",
   "metadata": {},
   "source": [
    "#### FUNCTIONS"
   ]
  },
  {
   "cell_type": "code",
   "execution_count": null,
   "metadata": {
    "collapsed": true
   },
   "outputs": [],
   "source": [
    "def create_stop_dict(documents):\n",
    "    \n",
    "    stop_dict = collections.OrderedDict()\n",
    "    \n",
    "    stop_dict['full'] = []\n",
    "    stop_dict['uni'] = [ w for doc in documents for w in doc if len(w)<=1] # INCLUDE ''\n",
    "    stop_dict['bi'] = [ w for doc in documents for w in doc if len(w)==2]\n",
    "    stop_dict['nltk'] = nltk.corpus.stopwords.words(\"english\")\n",
    "    stop_dict['misc'] = ['get', 'know', 'would', 'and', 'yet', 'due', 'one', 'way', 'also', \\\n",
    "                         'use', 'within', 'like', 'may', 'however', 'even', 'used']\n",
    "#     stop_dict['numbers'] = [ [token for token in doc if len(token.strip(digits)) != len(token)] for doc in documents ]\n",
    "    stop_dict['num'] = [ token for doc in documents for token in doc if len(token.strip(digits)) != len(token)]\n",
    "    \n",
    "    # NEED EMPTY LISTS SIMPLY FOR ITERATION BECAUSE WE'LL USE THE KEYS\n",
    "    stop_dict['lemmas'] = []\n",
    "    stop_dict['freq'] = []\n",
    "\n",
    "\n",
    "    return stop_dict\n",
    "\n",
    "def remove_stopwords(documents, stoplist):\n",
    "    \n",
    "    documents = [[token for token in doc if token not in stoplist] for doc in documents]\n",
    "    \n",
    "    return documents\n",
    "\n",
    "def remove_digits(documents):\n",
    "    \n",
    "        # REMOVES WORDS THAT ARE NUMBERS ONLY\n",
    "        documents = [ [token for token in doc if len(token.strip(digits)) == len(token)] for doc in documents ]\n",
    "        \n",
    "        return documents\n",
    "    \n",
    "def lemmatize_documents(documents):\n",
    "    \n",
    "    lemma = WordNetLemmatizer()\n",
    "    \n",
    "    tagged_docs = [[tagged_token for tagged_token in pos_tag(doc)] for doc in documents]\n",
    "    \n",
    "    lemmatized_docs = [[lemma.lemmatize(tagged_token[0], get_treebank_pos(tagged_token[1])) \n",
    "                          for tagged_token in tagged_doc] for tagged_doc in tagged_docs]\n",
    "    \n",
    "    return lemmatized_docs\n",
    "\n",
    "# test_docs = [['say', 'said', 'saying', 'says'], ['hear', 'heard', 'hearing', 'hears']]\n",
    "# lemmatize_documents(test_docs)\n",
    "# # [['say', u'say', u'say', u'say'], ['hear', 'heard', 'hearing', 'hears']]\n",
    "\n",
    "# MODIFIED FROM BELOW TO USE PENN TREEBANK POS STRINGS INSTEAD OF WORDNET\n",
    "# ADJ, ADJ_SAT, ADV, NOUN, VERB = 'a', 's', 'r', 'n', 'v' vs. wordnet.ADJ, wordnet.VERB, wordnet.NOUN, WORDNET.ADV\n",
    "# https://stackoverflow.com/questions/15586721/wordnet-lemmatization-and-pos-tagging-in-python\n",
    "# SEE HERE FOR TAGS: https://www.ling.upenn.edu/courses/Fall_2003/ling001/penn_treebank_pos.html\n",
    "\n",
    "def get_treebank_pos(treebank_tag):\n",
    "\n",
    "    if treebank_tag.startswith('J'):\n",
    "        return 'a'\n",
    "    elif treebank_tag.startswith('V'):\n",
    "        return 'v'\n",
    "    elif treebank_tag.startswith('N'):\n",
    "        return 'n'\n",
    "    elif treebank_tag.startswith('R'):\n",
    "        return 'r'\n",
    "    else:\n",
    "        return 'n'\n",
    "\n",
    "def remove_low_frequency(documents, frequency=1):\n",
    "    \n",
    "            # REMOVE WORDS THAT OCCUR ONLY ONCE\n",
    "        token_frequency = defaultdict(int)\n",
    "\n",
    "        # count all tokens\n",
    "        for doc in documents:\n",
    "            for token in doc:\n",
    "                token_frequency[token] += 1\n",
    "\n",
    "        # keep words that occur more than once\n",
    "        documents = [ [token for token in doc if token_frequency[token] > frequency]\n",
    "                        for doc in documents  ]\n",
    "        \n",
    "        return documents\n",
    "    \n",
    "def flatten_tokens(documents):\n",
    "    \n",
    "    flat_list = [item for sublist in documents for item in sublist]\n",
    "    \n",
    "    return flat_list\n",
    "\n",
    "\n",
    "def save_token_frequency(documents, path, name, level, stoptype, flatten=True):\n",
    "    \n",
    "    if flatten:\n",
    "        \n",
    "        tokens = flatten_tokens(documents)\n",
    "        \n",
    "    else: \n",
    "        \n",
    "        tokens = documents\n",
    "    \n",
    "    token_fqs = collections.Counter(tokens)\n",
    "\n",
    "    cdf = pd.DataFrame.from_dict(token_fqs, 'index').reset_index()\n",
    "    cdf.columns = ['token', 'frequency']\n",
    "    \n",
    "    filename = name + '_' + ('0' + str(level)) + '_' + stoptype\n",
    "    cdf.to_csv(path + filename + '.csv', index=False)\n",
    "    \n",
    "    return token_fqs\n",
    "\n",
    "# test_docs = [['say', 'said', 'saying', 'says', 'said'], ['hear', 'heard', 'hears', 'hearing', 'hears', 'hear', 'hears']]\n",
    "# # # SHOULD SAVE FILE 'data/freq/outlet_00_test.csv' WITH TOKENS, FREQUENCY AS COLUMN LABEL PLUS 8 LINES\n",
    "# # # AND RETURN THE TOKEN_FQS COUNTER\n",
    "# save_token_frequency(test_docs, 'data/freq/', 'outlet', 0, 'test')\n",
    "\n",
    "\n",
    "def save_tokenized_text(documents, path, name, level, stoptype):\n",
    "    \n",
    "    joined_tokens = [' '.join(doc) for doc in documents]\n",
    "\n",
    "    joined_df = pd.DataFrame(joined_tokens, columns=['tokens'])\n",
    "    \n",
    "    filename = name + '_' + ('0' + str(level)) + '_' + stoptype\n",
    "        \n",
    "    joined_df.to_csv(path + filename + '.csv', index=False)\n",
    "    \n",
    "# test_docs = [['say', 'said', 'saying', 'says'], ['hear', 'heard', 'hearing', 'hears']]\n",
    "# # SHOULD SAVE FILE 'data/tokens/outlet_00_test.csv' WITH TOKENS AS COLUMN LABEL PLUS LINES FROM TEST_DOCS\n",
    "# save_tokenized_text(test_docs, 'data/tokens/', 'outlet', 1, 'test')\n",
    "\n",
    "\n",
    "def save_nlp_files(documents, name, level, stoptype):\n",
    "    \n",
    "    filename = name + '_' + ('0' + str(level)) + '_' + stoptype\n",
    "    \n",
    "        # Sort words in documents\n",
    "    for doc in documents:\n",
    "        doc.sort()\n",
    "\n",
    "    # Build a dictionary where for each document each word has its own id\n",
    "    dictionary = corpora.Dictionary(documents)\n",
    "    dictionary.compactify()\n",
    "    # and save the dictionary for future use\n",
    "#     print dictionary\n",
    "    dictionary.save( 'data/dicts/' + filename + '.dict')\n",
    "\n",
    "    # BUILD AND SAVE CORPUS\n",
    "    corpus = [dictionary.doc2bow(doc) for doc in documents]\n",
    "    corpora.MmCorpus.serialize('data/corpora/' + filename + '.mm', corpus)\n",
    "    \n",
    "# save_nlp_files(test_docs, 'outlet', 0, 'test')\n",
    "# # SHOULD SAVE data/corpora/outlet_00_test.mm/.index, data/dicts/outlet_00_test.dict"
   ]
  },
  {
   "cell_type": "markdown",
   "metadata": {},
   "source": [
    "#### NON-LOOPED CODE FOR TESTING"
   ]
  },
  {
   "cell_type": "code",
   "execution_count": 156,
   "metadata": {
    "collapsed": false
   },
   "outputs": [],
   "source": [
    "test_docs = [['', 'say', 'said', 'saying', 'says'], ['hear', 'heard', '', 'hearing', 'hears'], []]\n",
    "\n",
    "tokenizer = RegexpTokenizer(r'\\w+')\n",
    "\n",
    "df = bnn\n",
    "name = 'bnn'\n",
    "level = 'level_lemma'\n",
    "\n",
    "documents = [text for text in df['text']]\n",
    "documents = [tokenizer.tokenize(doc.lower()) for doc in documents ]\n",
    "documents = [ [token.decode('ascii', 'ignore') for token in doc] for doc in documents  ] # FIX UNICODE\n",
    "\n",
    "stop_dict = create_stop_dict(documents)\n",
    "documents = remove_stopwords(documents, stop_dict['unichars'])\n",
    "documents = lemmatize_documents(documents)\n",
    "\n",
    "print name, len(documents), 'documents'\n",
    "print ''\n",
    "\n",
    "for tokens, lemmas in zip(documents[:2], lemma_docs[:2]):\n",
    "    for token, lemma in zip(tokens, lemmas):\n",
    "        print token, '--->', lemma\n",
    "    print ''"
   ]
  },
  {
   "cell_type": "markdown",
   "metadata": {},
   "source": [
    "#### UTILITY FUNCTION FOR POST LEMMATIZATION (USEFUL IN A SINGLE CIRCUMSTANCE)"
   ]
  },
  {
   "cell_type": "code",
   "execution_count": 479,
   "metadata": {
    "collapsed": false
   },
   "outputs": [],
   "source": [
    "names = ['cnn', 'bnn', 'wsj', 'month_a', 'month_b', 'month_c', 'month_d']\n",
    "\n",
    "for name in names:\n",
    "        \n",
    "    input_file = 'data/freq/' + name + '_level_five.csv'\n",
    "    output_file = 'data/lemmas/' + name + '_low_fq.csv'\n",
    "    \n",
    "    word_fqs = pd.read_csv(input_file)\n",
    "    token_fqs = counter_from_dataframe(word_fqs)\n",
    "    tokens = list(token_fqs.elements())\n",
    "\n",
    "    post_lemmas = lemmatize_tokens(tokens)\n",
    "    saved_token_fqs = save_token_frequency(post_lemmas, 'data/lemmas/', name, 'lemma', False)\n",
    "    \n",
    "    fq_gt_one = saved_token_fqs[saved_token_fqs['frequency'] > 1]\n",
    "    \n",
    "    fq_gt_one.to_csv(output_file, index=False)\n",
    "    \n",
    "def counter_from_dataframe(df):\n",
    "    \n",
    "    records = df.to_dict(orient='records')\n",
    "    frequencies = {record['token']:record['frequency'] for record in records}\n",
    "    counter = collections.Counter(frequencies)\n",
    "    \n",
    "    return counter\n",
    "\n",
    "# word_fqs = pd.read_csv('data/freq/bnn_level_five.csv')\n",
    "# token_fqs = counter_from_dataframe(word_fqs)\n",
    "# tokens = list(token_fqs.elements())\n",
    "\n",
    "# post_lemmas = lemmatize_tokens(tokens)\n",
    "# saved_token_fqs = save_token_frequency(post_lemmas, 'data/lemmas/', 'bnn', 'lemma', False)"
   ]
  }
 ],
 "metadata": {
  "kernelspec": {
   "display_name": "Python 2",
   "language": "python",
   "name": "python2"
  },
  "language_info": {
   "codemirror_mode": {
    "name": "ipython",
    "version": 2
   },
   "file_extension": ".py",
   "mimetype": "text/x-python",
   "name": "python",
   "nbconvert_exporter": "python",
   "pygments_lexer": "ipython2",
   "version": "2.7.13"
  }
 },
 "nbformat": 4,
 "nbformat_minor": 0
}
